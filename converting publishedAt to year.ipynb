{
 "cells": [
  {
   "cell_type": "code",
   "execution_count": 4,
   "id": "90a829da-6938-4d8e-83e4-bc79469b8d8b",
   "metadata": {},
   "outputs": [
    {
     "name": "stdout",
     "output_type": "stream",
     "text": [
      "\u001b[32m\n",
      "year of video publication:\n",
      "\u001b[0m\n",
      "['2023', '2023']\n"
     ]
    }
   ],
   "source": [
    "import simple_colors\n",
    "import re\n",
    "\n",
    "# to get the year of video publication:\n",
    "print(simple_colors.green(\"\\nyear of video publication:\\n\"))\n",
    "\n",
    "video_date_list =['2023-09-05T13:15:02Z', '2023-09-02T14:28:57Z']\n",
    "video_year_list = []\n",
    "for video_year in video_date_list:\n",
    "    data = re.split(\"-\", video_year)\n",
    "    number = data[0]\n",
    "    video_year_list.append(number)\n",
    "    \n",
    "print(video_year_list)"
   ]
  },
  {
   "cell_type": "code",
   "execution_count": null,
   "id": "cb7aefb2-6adf-4eb2-af80-f153391f8c1d",
   "metadata": {},
   "outputs": [],
   "source": []
  }
 ],
 "metadata": {
  "kernelspec": {
   "display_name": "Python 3 (ipykernel)",
   "language": "python",
   "name": "python3"
  },
  "language_info": {
   "codemirror_mode": {
    "name": "ipython",
    "version": 3
   },
   "file_extension": ".py",
   "mimetype": "text/x-python",
   "name": "python",
   "nbconvert_exporter": "python",
   "pygments_lexer": "ipython3",
   "version": "3.12.0"
  }
 },
 "nbformat": 4,
 "nbformat_minor": 5
}
